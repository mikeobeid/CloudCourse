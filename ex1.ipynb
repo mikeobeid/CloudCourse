{
  "nbformat": 4,
  "nbformat_minor": 0,
  "metadata": {
    "colab": {
      "provenance": [],
      "authorship_tag": "ABX9TyPkdqd2cj17MFSB/FnPpvVr",
      "include_colab_link": true
    },
    "kernelspec": {
      "name": "python3",
      "display_name": "Python 3"
    },
    "language_info": {
      "name": "python"
    }
  },
  "cells": [
    {
      "cell_type": "markdown",
      "metadata": {
        "id": "view-in-github",
        "colab_type": "text"
      },
      "source": [
        "<a href=\"https://colab.research.google.com/github/mikeobeid/CloudCourse/blob/main/ex1.ipynb\" target=\"_parent\"><img src=\"https://colab.research.google.com/assets/colab-badge.svg\" alt=\"Open In Colab\"/></a>"
      ]
    },
    {
      "cell_type": "markdown",
      "source": [
        "# **Tutorial 1 - Cloud Computing**\n",
        "**Project:** Student Viewer (with YouTube links and free-text updates)\n",
        "\n",
        "**Summary:**  \n",
        "This notebook loads student records from a `.txt` file, displays their personal details in an interactive form, and allows users to submit free-text notes.  \n",
        "The UI includes YouTube links, disabled text fields, and an input box for user interaction using `ipywidgets`.\n"
      ],
      "metadata": {
        "id": "TjZGhZdh5VRR"
      }
    },
    {
      "cell_type": "code",
      "source": [
        "# 📦 Import Libraries\n",
        "from IPython.display import display, HTML, Javascript\n",
        "import ipywidgets as widgets\n"
      ],
      "metadata": {
        "id": "LQcqEexDaFNr"
      },
      "execution_count": 1,
      "outputs": []
    },
    {
      "cell_type": "code",
      "source": [
        "# 📥 Load student data from a text file\n",
        "def load_student_data(filename):\n",
        "    students = {}\n",
        "    with open(filename, 'r') as f:\n",
        "        for line in f:\n",
        "            parts = line.strip().split(',')\n",
        "            if len(parts) >= 5:\n",
        "                name = parts[0].strip()\n",
        "                lastname = parts[1].strip()\n",
        "                email = parts[2].strip()\n",
        "                fav_program = parts[3].strip()\n",
        "                youtube_link = parts[4].strip()\n",
        "\n",
        "                free_text = ','.join(parts[5:]).strip() if len(parts) > 5 else ''\n",
        "\n",
        "                students[name] = {\n",
        "                    'lastname': lastname,\n",
        "                    'email': email,\n",
        "                    'fav_program': fav_program,\n",
        "                    'youtube_link': youtube_link,\n",
        "                    'free_text': free_text\n",
        "                }\n",
        "    return students\n",
        "\n",
        "# Load student data\n",
        "students = load_student_data('students.txt')\n"
      ],
      "metadata": {
        "id": "SLJ6quHE4mtR"
      },
      "execution_count": 2,
      "outputs": []
    },
    {
      "cell_type": "code",
      "source": [
        "# 🔄 Update displayed details based on selected student\n",
        "def update_details(change):\n",
        "    selected_student = student_dropdown.value\n",
        "    if selected_student in students:\n",
        "        student_details = students[selected_student]\n",
        "        lastname_textbox.value = student_details['lastname']\n",
        "        email_textbox.value = student_details['email']\n",
        "        fav_program_textbox.value = student_details['fav_program']\n",
        "        youtube_link = student_details['youtube_link']\n",
        "        youtube_link_html.value = f'<a href=\"{youtube_link}\" target=\"_blank\">Watch Video</a>' if youtube_link else 'No link available'\n",
        "        free_text_textbox.value = student_details['free_text']\n"
      ],
      "metadata": {
        "id": "Bm-suLjc4oSV"
      },
      "execution_count": 3,
      "outputs": []
    },
    {
      "cell_type": "code",
      "source": [
        "# 🔁 Handle submission of free text updates\n",
        "def submit_free_text(button):\n",
        "    selected_student = student_dropdown.value\n",
        "    new_text = free_text_textbox.value.strip()\n",
        "\n",
        "    if selected_student in students and new_text:\n",
        "        current_text = students[selected_student]['free_text']\n",
        "        updated_text = current_text + \" \" + new_text if current_text else new_text\n",
        "        students[selected_student]['free_text'] = updated_text\n",
        "\n",
        "        with open('students.txt', 'w') as f:\n",
        "            for name, info in students.items():\n",
        "                line = f\"{name},{info['lastname']},{info['email']},{info['fav_program']},{info['youtube_link']},{info['free_text'].replace(',', ' ')}\\n\"\n",
        "                f.write(line)\n",
        "\n",
        "        free_text_textbox.value = ''\n",
        "        print(f\"Note added for {selected_student} and saved successfully!\")\n"
      ],
      "metadata": {
        "id": "aqGj2RIu4ptu"
      },
      "execution_count": 4,
      "outputs": []
    },
    {
      "cell_type": "code",
      "source": [
        "# 🛠️ Create Widgets\n",
        "student_dropdown = widgets.Dropdown(\n",
        "    options=list(students.keys()),\n",
        "    description='Student:',\n",
        "    style={'description_width': 'initial'}\n",
        ")\n",
        "\n",
        "lastname_textbox = widgets.Text(description='Last Name:', disabled=True)\n",
        "email_textbox = widgets.Text(description='Email:', disabled=True)\n",
        "fav_program_textbox = widgets.Text(description='Favorite Program:', disabled=True)\n",
        "youtube_link_html = widgets.HTML(value='', description='YouTube:')\n",
        "free_text_textbox = widgets.Text(description='Free Text:', disabled=False)\n",
        "submit_button = widgets.Button(description=\"Submit\")\n"
      ],
      "metadata": {
        "id": "qL0vFl2k4r3e"
      },
      "execution_count": 5,
      "outputs": []
    },
    {
      "cell_type": "code",
      "source": [
        "# 📋 Display UI\n",
        "display(HTML('<h1 style=\"text-align: center;\">Student Details</h1>'))\n",
        "display(student_dropdown)\n",
        "display(lastname_textbox)\n",
        "display(email_textbox)\n",
        "display(fav_program_textbox)\n",
        "display(youtube_link_html)\n",
        "\n",
        "# Free text + submit button in one row\n",
        "hbox = widgets.HBox([free_text_textbox, submit_button])\n",
        "display(hbox)\n",
        "# 🧠 Attach handlers\n",
        "student_dropdown.observe(update_details, names='value')\n",
        "submit_button.on_click(submit_free_text)\n",
        "\n",
        "# 🧠 Initialize display\n",
        "if students:\n",
        "    update_details({'new': list(students.keys())[0]})\n",
        "\n",
        "# 🎨 Style the layout\n",
        "display(HTML(\"\"\"\n",
        "<style>\n",
        ".widget-label {\n",
        "  width: 150px !important;\n",
        "}\n",
        "</style>\n",
        "\"\"\"))"
      ],
      "metadata": {
        "id": "NBr0_7AY4voY"
      },
      "execution_count": null,
      "outputs": []
    },
    {
      "cell_type": "markdown",
      "source": [
        "# **I wanted to print the output but I think Github does not suppurt widgets displying.**"
      ],
      "metadata": {
        "id": "I_KkCQ7B5Kr5"
      }
    }
  ]
}