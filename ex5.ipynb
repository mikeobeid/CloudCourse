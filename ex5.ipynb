{
  "nbformat": 4,
  "nbformat_minor": 0,
  "metadata": {
    "colab": {
      "provenance": [],
      "authorship_tag": "ABX9TyOveWhVnIQEpAJkFn8sz8Io",
      "include_colab_link": true
    },
    "kernelspec": {
      "name": "python3",
      "display_name": "Python 3"
    },
    "language_info": {
      "name": "python"
    }
  },
  "cells": [
    {
      "cell_type": "markdown",
      "metadata": {
        "id": "view-in-github",
        "colab_type": "text"
      },
      "source": [
        "<a href=\"https://colab.research.google.com/github/mikeobeid/CloudCourse/blob/main/ex5.ipynb\" target=\"_parent\"><img src=\"https://colab.research.google.com/assets/colab-badge.svg\" alt=\"Open In Colab\"/></a>"
      ]
    },
    {
      "cell_type": "markdown",
      "source": [
        "# **Tutorial 5 - Cloud Computing**\n",
        "**Project:** Firebase CRUD Operations\n",
        "\n",
        "**Firebase Database Link:** https://cloudcourse-23aba-default-rtdb.firebaseio.com/\n",
        "\n",
        "**Summary:**  \n",
        "This notebook connects to a Firebase Realtime Database and performs CRUD operations on temperature records.  \n",
        "It allows **adding**, **updating**, **deleting**, and **viewing** data in real-time using Python.\n"
      ],
      "metadata": {
        "id": "fYia8_FDwa3S"
      }
    },
    {
      "cell_type": "code",
      "execution_count": null,
      "metadata": {
        "id": "1pnEFPbKnqST",
        "collapsed": true
      },
      "outputs": [],
      "source": [
        "# 🔁 Install Admin SDK\n",
        "!pip install firebase-admin\n"
      ]
    },
    {
      "cell_type": "code",
      "source": [
        "# 🔌 Import libraries\n",
        "import firebase_admin\n",
        "from firebase_admin import credentials, db"
      ],
      "metadata": {
        "id": "8tlFSvmN1Nx2"
      },
      "execution_count": null,
      "outputs": []
    },
    {
      "cell_type": "code",
      "source": [
        "# 🔌 Connect to Firebase using service account key\n",
        "\n",
        "# Only initialize if not already done\n",
        "if not firebase_admin._apps:\n",
        "    MyCred = credentials.Certificate('cloudcourse-23aba-firebase-adminsdk-fbsvc-b09987fbde.json')\n",
        "    firebase_admin.initialize_app(MyCred, {\n",
        "        'databaseURL': 'https://cloudcourse-23aba-default-rtdb.firebaseio.com/'\n",
        "    })\n",
        "\n",
        "# 🔗 Reference to the \"words\" node\n",
        "ref = db.reference('words')\n"
      ],
      "metadata": {
        "id": "ybWj8K3s1UVU"
      },
      "execution_count": null,
      "outputs": []
    },
    {
      "cell_type": "code",
      "source": [
        "# 🧠 Logic Functions\n",
        "\n",
        "def add_single_word(word):\n",
        "    word = word.lower().strip()\n",
        "    existing = ref.child(word).get()\n",
        "    if existing is None:\n",
        "        ref.child(word).set(1)\n",
        "    else:\n",
        "        ref.child(word).set(existing + 1)\n",
        "    print(f\"Added '{word}' successfully.\")\n",
        "\n",
        "def add_full_text(text):\n",
        "    words = text.lower().split()\n",
        "    for word in words:\n",
        "        add_single_word(word)\n",
        "\n",
        "def update_word_count(word, new_count):\n",
        "    word = word.lower().strip()\n",
        "    ref.child(word).set(new_count)\n",
        "    print(f\"Updated '{word}' to {new_count}.\")\n",
        "\n",
        "def delete_word(word):\n",
        "    word = word.lower().strip()\n",
        "    ref.child(word).delete()\n",
        "    print(f\"Deleted '{word}'.\")\n",
        "\n",
        "def display_all_words():\n",
        "    data = ref.get()\n",
        "    if not data:\n",
        "        print(\"No words saved.\")\n",
        "    else:\n",
        "        for word, count in data.items():\n",
        "            print(f\"{word}: {count}\")\n"
      ],
      "metadata": {
        "id": "ZLyMiDND1WKh"
      },
      "execution_count": null,
      "outputs": []
    },
    {
      "cell_type": "code",
      "source": [
        "# 📋 Menu System\n",
        "\n",
        "def menu():\n",
        "    while True:\n",
        "        print(\"\\n📋 Word Frequency Tracker Menu:\")\n",
        "        print(\"1. ➕ Add single word\")\n",
        "        print(\"2. 📝 Add full text\")\n",
        "        print(\"3. 🔁 Update word count\")\n",
        "        print(\"4. ❌ Delete word\")\n",
        "        print(\"5. 📊 View all words\")\n",
        "        print(\"6. 🚪 Exit\")\n",
        "\n",
        "        choice = input(\"\\nEnter your choice (1-6): \").strip()\n",
        "\n",
        "        if choice == '1':\n",
        "            word = input(\"Enter a word: \")\n",
        "            add_single_word(word)\n",
        "\n",
        "        elif choice == '2':\n",
        "            text = input(\"Enter text: \")\n",
        "            add_full_text(text)\n",
        "\n",
        "        elif choice == '3':\n",
        "            word = input(\"Enter word to update: \")\n",
        "            count = int(input(\"Enter new count: \"))\n",
        "            update_word_count(word, count)\n",
        "\n",
        "        elif choice == '4':\n",
        "            word = input(\"Enter word to delete: \")\n",
        "            delete_word(word)\n",
        "\n",
        "        elif choice == '5':\n",
        "            display_all_words()\n",
        "\n",
        "        elif choice == '6':\n",
        "            print(\"Exiting... 👋\")\n",
        "            break\n",
        "\n",
        "        else:\n",
        "            print(\"Invalid choice. Try again.\")\n"
      ],
      "metadata": {
        "id": "GbG3fTRM1XUP"
      },
      "execution_count": null,
      "outputs": []
    },
    {
      "cell_type": "code",
      "source": [
        "# ▶️ Run the Menu\n",
        "menu()\n"
      ],
      "metadata": {
        "colab": {
          "base_uri": "https://localhost:8080/"
        },
        "id": "7EtAFh_X1Y4u",
        "outputId": "00ea098d-ec71-442b-e63c-82c796dc3274"
      },
      "execution_count": 5,
      "outputs": [
        {
          "output_type": "stream",
          "name": "stdout",
          "text": [
            "\n",
            "📋 Word Frequency Tracker Menu:\n",
            "1. ➕ Add single word\n",
            "2. 📝 Add full text\n",
            "3. 🔁 Update word count\n",
            "4. ❌ Delete word\n",
            "5. 📊 View all words\n",
            "6. 🚪 Exit\n",
            "\n",
            "Enter your choice (1-6): 1\n",
            "Enter a word: Hi\n",
            "Added 'hi' successfully.\n",
            "\n",
            "📋 Word Frequency Tracker Menu:\n",
            "1. ➕ Add single word\n",
            "2. 📝 Add full text\n",
            "3. 🔁 Update word count\n",
            "4. ❌ Delete word\n",
            "5. 📊 View all words\n",
            "6. 🚪 Exit\n",
            "\n",
            "Enter your choice (1-6): 5\n",
            "hello: 5\n",
            "hi: 2\n",
            "world: 1\n",
            "\n",
            "📋 Word Frequency Tracker Menu:\n",
            "1. ➕ Add single word\n",
            "2. 📝 Add full text\n",
            "3. 🔁 Update word count\n",
            "4. ❌ Delete word\n",
            "5. 📊 View all words\n",
            "6. 🚪 Exit\n",
            "\n",
            "Enter your choice (1-6): 6\n",
            "Exiting... 👋\n"
          ]
        }
      ]
    }
  ]
}