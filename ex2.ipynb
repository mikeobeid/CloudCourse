{
  "nbformat": 4,
  "nbformat_minor": 0,
  "metadata": {
    "colab": {
      "provenance": [],
      "authorship_tag": "ABX9TyPzAaXw41jkOVm7ffic+q4W",
      "include_colab_link": true
    },
    "kernelspec": {
      "name": "python3",
      "display_name": "Python 3"
    },
    "language_info": {
      "name": "python"
    }
  },
  "cells": [
    {
      "cell_type": "markdown",
      "metadata": {
        "id": "view-in-github",
        "colab_type": "text"
      },
      "source": [
        "<a href=\"https://colab.research.google.com/github/mikeobeid/CloudCourse/blob/main/ex2.ipynb\" target=\"_parent\"><img src=\"https://colab.research.google.com/assets/colab-badge.svg\" alt=\"Open In Colab\"/></a>"
      ]
    },
    {
      "cell_type": "markdown",
      "source": [
        "# **Tutorial 2 - Cloud Computing**\n",
        "**Project:** Student Information Manager (using ipywidgets)\n",
        "\n",
        "**Summary:**  \n",
        "This notebook loads student data from a JSON file and builds an interactive dashboard using `ipywidgets`.  \n",
        "It allows users to select a student, view their information, update their favorite program, and save changes back to the JSON file.\n"
      ],
      "metadata": {
        "id": "WS7GWIlC3g9R"
      }
    },
    {
      "cell_type": "code",
      "execution_count": 1,
      "metadata": {
        "id": "hLzJbomZxZpA"
      },
      "outputs": [],
      "source": [
        "# 📦 Import Libraries\n",
        "import json\n",
        "import ipywidgets as widgets\n",
        "from IPython.display import display, clear_output, HTML\n"
      ]
    },
    {
      "cell_type": "code",
      "source": [
        "# 📥 Load student data from JSON file\n",
        "def load_student_data():\n",
        "    try:\n",
        "        with open('students.json', 'r') as f:\n",
        "            return json.load(f)\n",
        "    except FileNotFoundError:\n",
        "        print(\"Error: 'students.json' not found.\")\n",
        "        return []  # Initialize as empty list if file not found\n",
        "\n",
        "# Load the student data initially\n",
        "student_data = load_student_data()\n"
      ],
      "metadata": {
        "id": "MqrfC7DF3D8e"
      },
      "execution_count": 3,
      "outputs": []
    },
    {
      "cell_type": "code",
      "source": [
        "# 🛠️ Create \"Select Student\" label and dropdown\n",
        "student_selector_label = widgets.Label(value=\"Select Student:\")\n",
        "student_selector = widgets.Dropdown(\n",
        "    options=[(student['name'], i) for i, student in enumerate(student_data)],\n",
        "    description='',\n",
        "    disabled=False,\n",
        "    value=0,\n",
        "    layout=widgets.Layout(width='200px')\n",
        ")\n",
        "\n",
        "student_selector_box = widgets.HBox([student_selector_label, student_selector], layout=widgets.Layout(margin='10px 0px'))\n",
        "\n",
        "# 🛠️ Create \"Favorite Program\" label and text box\n",
        "fav_program_label = widgets.Label(value=\"Favorite Program:\")\n",
        "fav_program_textbox = widgets.Text(\n",
        "    description='',\n",
        "    layout=widgets.Layout(width='190px')\n",
        ")\n",
        "fav_program_box = widgets.HBox([fav_program_label, fav_program_textbox], layout=widgets.Layout(margin='10px 0px'))\n",
        "\n",
        "# 🛠️ Create \"Link\" clickable text\n",
        "link_textbox = widgets.HTML(description='Link:', value=\"\", layout=widgets.Layout(width='300px'))\n",
        "link_box = widgets.HBox([link_textbox], layout=widgets.Layout(margin='10px 0px'))\n",
        "\n",
        "# 🛠️ Create Text Fields for Student Details\n",
        "name_textbox = widgets.Text(description='Name:', disabled=True, layout=widgets.Layout(width='300px'))\n",
        "lname_textbox = widgets.Text(description='Last Name:', disabled=True, layout=widgets.Layout(width='300px'))\n",
        "email_textbox = widgets.Text(description='Email:', disabled=True, layout=widgets.Layout(width='300px'))\n",
        "class_textbox = widgets.Text(description='Class:', disabled=True, layout=widgets.Layout(width='300px'))\n",
        "\n",
        "# 🛠️ Create Update Button\n",
        "update_button = widgets.Button(description='Update', layout=widgets.Layout(width='300px'))\n",
        "\n",
        "# 🛠️ Output Area\n",
        "output = widgets.Output()\n"
      ],
      "metadata": {
        "id": "Pph7xOMo3FUP"
      },
      "execution_count": 4,
      "outputs": []
    },
    {
      "cell_type": "code",
      "source": [
        "# 🔄 Function to update displayed student details\n",
        "def update_student_details(selected_index):\n",
        "    with output:\n",
        "        clear_output(wait=True)\n",
        "        if 0 <= selected_index < len(student_data):\n",
        "            student = student_data[selected_index]\n",
        "            name_textbox.value = student['name']\n",
        "            lname_textbox.value = student['lname']\n",
        "            email_textbox.value = student['email']\n",
        "            class_textbox.value = \", \".join(student['class'])\n",
        "            link_textbox.value = f'<a href=\"{student[\"link\"]}\" target=\"_blank\">Click to visit link</a>'\n",
        "            fav_program_textbox.value = student.get('favorite_program', '')\n",
        "        else:\n",
        "            print(\"Invalid Student Index\")\n"
      ],
      "metadata": {
        "id": "dHlQhqnO3ICt"
      },
      "execution_count": 5,
      "outputs": []
    },
    {
      "cell_type": "code",
      "source": [
        "# 🔄 Function to update student data in the JSON file\n",
        "def update_student_data(button):\n",
        "    with output:\n",
        "        clear_output(wait=True)\n",
        "        selected_index = student_selector.value\n",
        "        if 0 <= selected_index < len(student_data):\n",
        "            student_data[selected_index]['favorite_program'] = fav_program_textbox.value\n",
        "            try:\n",
        "                with open('students.json', 'w') as f:\n",
        "                    json.dump(student_data, f, indent=4)\n",
        "                print(\"Student data updated successfully!\")\n",
        "            except Exception as e:\n",
        "                print(f\"Error updating student data: {e}\")\n",
        "        else:\n",
        "            print(\"Please select a valid student.\")\n"
      ],
      "metadata": {
        "id": "vPHAeYFM3Kyw"
      },
      "execution_count": 6,
      "outputs": []
    },
    {
      "cell_type": "code",
      "source": [
        "# 🖇️ Attach event handlers\n",
        "student_selector.observe(lambda change: update_student_details(change.new), names='value')\n",
        "update_button.on_click(update_student_data)\n"
      ],
      "metadata": {
        "id": "ISsGZJwv3MRi"
      },
      "execution_count": 7,
      "outputs": []
    },
    {
      "cell_type": "code",
      "source": [
        "# ▶️ Initialize with first student's details\n",
        "update_student_details(0)\n",
        "\n",
        "# ▶️ Display all widgets\n",
        "display(\n",
        "    student_selector_box,\n",
        "    name_textbox,\n",
        "    lname_textbox,\n",
        "    email_textbox,\n",
        "    class_textbox,\n",
        "    link_box,\n",
        "    fav_program_box,\n",
        "    update_button,\n",
        "    output\n",
        ")\n"
      ],
      "metadata": {
        "id": "DG-qLOr73Oqw"
      },
      "execution_count": null,
      "outputs": []
    },
    {
      "cell_type": "markdown",
      "source": [
        "# **# I wanted to print the output but I think Github does not suppurt widgets displying.**"
      ],
      "metadata": {
        "id": "RLyEY_h94Id4"
      }
    }
  ]
}