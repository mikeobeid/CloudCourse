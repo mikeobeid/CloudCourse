{
  "nbformat": 4,
  "nbformat_minor": 0,
  "metadata": {
    "colab": {
      "provenance": [],
      "authorship_tag": "ABX9TyPsCDi/DR1lZuDjnhZmTdNp",
      "include_colab_link": true
    },
    "kernelspec": {
      "name": "python3",
      "display_name": "Python 3"
    },
    "language_info": {
      "name": "python"
    }
  },
  "cells": [
    {
      "cell_type": "markdown",
      "metadata": {
        "id": "view-in-github",
        "colab_type": "text"
      },
      "source": [
        "<a href=\"https://colab.research.google.com/github/mikeobeid/CloudCourse/blob/main/ex6.ipynb\" target=\"_parent\"><img src=\"https://colab.research.google.com/assets/colab-badge.svg\" alt=\"Open In Colab\"/></a>"
      ]
    },
    {
      "cell_type": "markdown",
      "source": [
        "# Tutorial 6 - Cloud Computing\n",
        "**Project:** AWS Skai-SingleStore Case Study\n",
        "\n",
        "- **Firebase Database Link:** https://cloudcourse-23aba-default-rtdb.firebaseio.com/\n",
        "- **Summary:**  \n",
        "  This notebook scrapes the AWS case study page, indexes the 10 most important words based on frequency, saves them to a Firebase database, and displays the results in a bar chart.\n"
      ],
      "metadata": {
        "id": "RstgR8vmuafr"
      }
    },
    {
      "cell_type": "code",
      "execution_count": null,
      "metadata": {
        "id": "XGtUk5L4fto8",
        "collapsed": true
      },
      "outputs": [],
      "source": [
        "# Step 1: Install libraries\n",
        "!pip install requests beautifulsoup4\n",
        "\n",
        "# Step 2: Import libraries\n",
        "import requests\n",
        "from bs4 import BeautifulSoup\n",
        "\n",
        "# Step 3: Define function to fetch page content\n",
        "def fetch_page(url):\n",
        "    response = requests.get(url)\n",
        "    if response.status_code == 200:\n",
        "        soup = BeautifulSoup(response.text, 'html.parser')\n",
        "        return soup\n",
        "    else:\n",
        "        return None\n",
        "\n",
        "# Step 4: Fetch the site you gave\n",
        "url = 'https://aws.amazon.com/solutions/case-studies/skai-singlestore/'\n",
        "soup = fetch_page(url)\n",
        "\n",
        "# # Step 5: Print some text preview\n",
        "# if soup:\n",
        "#     print(soup.get_text()[:1000])  # Print only the first 1000 characters for preview\n",
        "# else:\n",
        "#     print(\"Failed to fetch the page.\")\n",
        "\n"
      ]
    },
    {
      "cell_type": "code",
      "source": [
        "# Step 6: Install libraries\n",
        "!pip install nltk"
      ],
      "metadata": {
        "id": "efddAOvT2B8o"
      },
      "execution_count": null,
      "outputs": []
    },
    {
      "cell_type": "code",
      "source": [
        "# Step 7: Import more libraries\n",
        "import re\n",
        "import nltk\n",
        "from nltk.stem import PorterStemmer\n",
        "\n",
        "# Download NLTK stopwords\n",
        "nltk.download('stopwords')\n",
        "\n",
        "# Step 8: Define the index_words function\n",
        "def index_words(soup):\n",
        "    index = {}\n",
        "    words = re.findall(r'\\w+', soup.get_text())\n",
        "    for word in words:\n",
        "        word = word.lower()\n",
        "        if word in index:\n",
        "            index[word] += 1\n",
        "        else:\n",
        "            index[word] = 1\n",
        "    return index\n",
        "\n",
        "# Step 9: Define the remove_stop_words function\n",
        "def remove_stop_words(index):\n",
        "    stop_words = set(nltk.corpus.stopwords.words('english'))\n",
        "    for stop_word in stop_words:\n",
        "        if stop_word in index:\n",
        "            del index[stop_word]\n",
        "    return index\n",
        "\n",
        "# Step 10: Define the apply_stemming function\n",
        "def apply_stemming(index):\n",
        "    stemmer = PorterStemmer()\n",
        "    stemmed_index = {}\n",
        "    for word, count in index.items():\n",
        "        stemmed_word = stemmer.stem(word)\n",
        "        if stemmed_word in stemmed_index:\n",
        "            stemmed_index[stemmed_word] += count\n",
        "        else:\n",
        "            stemmed_index[stemmed_word] = count\n",
        "    return stemmed_index\n",
        "\n",
        "# Step 11: Build the full index (like in your lecture)\n",
        "index = index_words(soup)\n",
        "index = remove_stop_words(index)\n",
        "index = apply_stemming(index)\n",
        "\n",
        "# Step 12: Show top 10 words\n",
        "sorted_index = sorted(index.items(), key=lambda x: x[1], reverse=True)\n",
        "top_10 = sorted_index[:10]\n",
        "\n",
        "# Step 13: Print top 10\n",
        "print(\"Top 10 Words and their Counts:\")\n",
        "for word, count in top_10:\n",
        "    print(f\"{word}: {count}\")\n"
      ],
      "metadata": {
        "colab": {
          "base_uri": "https://localhost:8080/"
        },
        "id": "_lnakfamrGm2",
        "outputId": "a7c2a31f-7ea9-469a-b553-638168b00d60"
      },
      "execution_count": 4,
      "outputs": [
        {
          "output_type": "stream",
          "name": "stdout",
          "text": [
            "Top 10 Words and their Counts:\n",
            "aw: 57\n",
            "skai: 33\n",
            "amazon: 25\n",
            "data: 22\n",
            "singlestor: 21\n",
            "support: 14\n",
            "profil: 14\n",
            "improv: 13\n",
            "time: 13\n",
            "perform: 13\n"
          ]
        },
        {
          "output_type": "stream",
          "name": "stderr",
          "text": [
            "[nltk_data] Downloading package stopwords to /root/nltk_data...\n",
            "[nltk_data]   Package stopwords is already up-to-date!\n"
          ]
        }
      ]
    },
    {
      "cell_type": "code",
      "source": [
        "# Step 1: Install firebase-admin\n",
        "!pip install firebase-admin"
      ],
      "metadata": {
        "id": "KUHt6tJdsOyW"
      },
      "execution_count": null,
      "outputs": []
    },
    {
      "cell_type": "code",
      "source": [
        "# Step 2: Import firebase libraries\n",
        "import firebase_admin\n",
        "from firebase_admin import credentials, db\n",
        "\n",
        "# Step 3: Connect to Firebase (replace with your credentials file)\n",
        "cred = credentials.Certificate('cloudcourse-23aba-firebase-adminsdk-fbsvc-b09987fbde.json')  # SON key here\n",
        "firebase_admin.initialize_app(cred, {\n",
        "    'databaseURL': 'https://cloudcourse-23aba-default-rtdb.firebaseio.com/'  # real database URL\n",
        "})\n"
      ],
      "metadata": {
        "colab": {
          "base_uri": "https://localhost:8080/"
        },
        "id": "iIO8MyIhsRwr",
        "outputId": "7017f373-d7bd-46c4-c347-1927ecc8de68"
      },
      "execution_count": 6,
      "outputs": [
        {
          "output_type": "execute_result",
          "data": {
            "text/plain": [
              "<firebase_admin.App at 0x7ab14f251d50>"
            ]
          },
          "metadata": {},
          "execution_count": 6
        }
      ]
    },
    {
      "cell_type": "code",
      "source": [
        "# Step 4: Upload top 10 words to the database\n",
        "ref = db.reference('/project_words_index')\n",
        "\n",
        "for word, count in top_10:\n",
        "    ref.child(word).set(count)\n",
        "\n",
        "print(\"Top 10 words uploaded successfully to Firebase!\")\n"
      ],
      "metadata": {
        "colab": {
          "base_uri": "https://localhost:8080/"
        },
        "id": "Rxq-RYfztLAu",
        "outputId": "3f7bb40d-df62-4ffa-9e0f-dd4bcbda6d8e"
      },
      "execution_count": 7,
      "outputs": [
        {
          "output_type": "stream",
          "name": "stdout",
          "text": [
            "Top 10 words uploaded successfully to Firebase!\n"
          ]
        }
      ]
    },
    {
      "cell_type": "code",
      "source": [
        "# Step 5: Read the data back\n",
        "ref = db.reference('/project_words_index')\n",
        "words_data = ref.get()\n",
        "\n",
        "# Step 6: Print words and their counts\n",
        "print(\"Words from Firebase:\")\n",
        "for word, count in words_data.items():\n",
        "    print(f\"{word}: {count}\")\n"
      ],
      "metadata": {
        "colab": {
          "base_uri": "https://localhost:8080/"
        },
        "id": "pEnnwKx9t88V",
        "outputId": "a21315d7-2203-4cb2-d007-247e50d4d897"
      },
      "execution_count": 8,
      "outputs": [
        {
          "output_type": "stream",
          "name": "stdout",
          "text": [
            "Words from Firebase:\n",
            "amazon: 25\n",
            "aw: 57\n",
            "data: 22\n",
            "improv: 13\n",
            "perform: 13\n",
            "profil: 14\n",
            "singlestor: 21\n",
            "skai: 33\n",
            "support: 14\n",
            "time: 13\n"
          ]
        }
      ]
    },
    {
      "cell_type": "code",
      "source": [
        "# Step 7: Install matplotlib\n",
        "!pip install matplotlib"
      ],
      "metadata": {
        "id": "TXONlG3e2PSO"
      },
      "execution_count": null,
      "outputs": []
    },
    {
      "cell_type": "code",
      "source": [
        "# Step 8: Import matplotlib\n",
        "import matplotlib.pyplot as plt\n",
        "\n",
        "# Step 9: Draw bar chart\n",
        "words = list(words_data.keys())\n",
        "counts = list(words_data.values())\n",
        "\n",
        "plt.figure(figsize=(12, 6))\n",
        "plt.bar(words, counts)\n",
        "plt.xlabel('Words')\n",
        "plt.ylabel('Counts')\n",
        "plt.title('Top 10 Word Occurrences on the Site')\n",
        "plt.xticks(rotation=45)\n",
        "plt.grid(axis='y')\n",
        "plt.show()\n"
      ],
      "metadata": {
        "colab": {
          "base_uri": "https://localhost:8080/",
          "height": 608
        },
        "id": "gvNq2aCVuBuA",
        "outputId": "97c17c54-e22f-47bf-c511-061521454a44"
      },
      "execution_count": 10,
      "outputs": [
        {
          "output_type": "display_data",
          "data": {
            "text/plain": [
              "<Figure size 1200x600 with 1 Axes>"
            ],
            "image/png": "[encoded data removed]"
          },
          "metadata": {}
        }
      ]
    }
  ]
}