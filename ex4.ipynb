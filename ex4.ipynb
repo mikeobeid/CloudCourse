{
  "nbformat": 4,
  "nbformat_minor": 0,
  "metadata": {
    "colab": {
      "provenance": [],
      "authorship_tag": "ABX9TyMNgxgEPOxfet0KMzPoavOA",
      "include_colab_link": true
    },
    "kernelspec": {
      "name": "python3",
      "display_name": "Python 3"
    },
    "language_info": {
      "name": "python"
    }
  },
  "cells": [
    {
      "cell_type": "markdown",
      "metadata": {
        "id": "view-in-github",
        "colab_type": "text"
      },
      "source": [
        "<a href=\"https://colab.research.google.com/github/mikeobeid/CloudCourse/blob/main/ex4.ipynb\" target=\"_parent\"><img src=\"https://colab.research.google.com/assets/colab-badge.svg\" alt=\"Open In Colab\"/></a>"
      ]
    },
    {
      "cell_type": "markdown",
      "source": [
        "# **Tutorial 4 - Cloud Computing**\n",
        "**Project:** Vehicle Data Visualization (Sunburst + Heatmap + Tabs)\n",
        "\n",
        "**Data Source:** [https://data.gov.il](https://data.gov.il)\n",
        "\n",
        "**Summary:**  \n",
        "This notebook loads vehicle registration data from a public API and provides a combined interactive visualization using a Sunburst chart and a Heatmap.  \n",
        "It also includes a tabbed dashboard for exploring summary statistics, raw data, yearly production distribution, and model-specific trims.\n",
        "\n"
      ],
      "metadata": {
        "id": "_LoUf18VzZlY"
      }
    },
    {
      "cell_type": "code",
      "source": [
        "# ========== Import Libraries ==========\n",
        "import pandas as pd\n",
        "import requests\n",
        "from plotly.subplots import make_subplots\n",
        "import matplotlib.pyplot as plt\n",
        "import seaborn as sns\n",
        "import ipywidgets as widgets\n",
        "from IPython.display import display\n",
        "import plotly.graph_objects as go\n"
      ],
      "metadata": {
        "id": "xzO6EhpAyrR2"
      },
      "execution_count": null,
      "outputs": []
    },
    {
      "cell_type": "code",
      "source": [
        "# ========== Install Libraries ==========\n",
        "!pip install plotly\n",
        "!pip install seaborn"
      ],
      "metadata": {
        "collapsed": true,
        "id": "65dBcrhVynjV"
      },
      "execution_count": null,
      "outputs": []
    },
    {
      "cell_type": "code",
      "source": [
        "# ========== Load Data ==========\n",
        "url = 'https://data.gov.il/api/3/action/datastore_search?resource_id=053cea08-09bc-40ec-8f7a-156f0677aff3&limit=1000'\n",
        "response = requests.get(url)\n",
        "data = response.json()\n",
        "data_df = pd.DataFrame(data['result']['records'])\n",
        "data_df['shnat_yitzur'] = pd.to_numeric(data_df['shnat_yitzur'], errors='coerce')\n"
      ],
      "metadata": {
        "id": "NodGTzDzyvk2"
      },
      "execution_count": null,
      "outputs": []
    },
    {
      "cell_type": "code",
      "source": [
        "# ========== Create Sunburst Chart ==========\n",
        "filtered_sunburst_df = data_df[\n",
        "    data_df['tozeret_nm'].notna() &\n",
        "    data_df['kinuy_mishari'].notna() &\n",
        "    data_df['ramat_gimur'].notna()\n",
        "].copy()\n",
        "\n",
        "filtered_sunburst_df['id'] = (\n",
        "    filtered_sunburst_df['tozeret_nm'] + \" - \" +\n",
        "    filtered_sunburst_df['kinuy_mishari'] + \" - \" +\n",
        "    filtered_sunburst_df['ramat_gimur']\n",
        ")\n",
        "\n",
        "filtered_sunburst_df['parent'] = (\n",
        "    filtered_sunburst_df['tozeret_nm'] + \" - \" +\n",
        "    filtered_sunburst_df['kinuy_mishari']\n",
        ")\n",
        "\n",
        "level1 = filtered_sunburst_df[['tozeret_nm']].drop_duplicates().rename(columns={'tozeret_nm': 'label'})\n",
        "level1['parent'] = \"\"\n",
        "level1['id'] = level1['label']\n",
        "\n",
        "level2 = filtered_sunburst_df[['tozeret_nm', 'kinuy_mishari']].drop_duplicates()\n",
        "level2['label'] = level2['kinuy_mishari']\n",
        "level2['parent'] = level2['tozeret_nm']\n",
        "level2['id'] = level2['tozeret_nm'] + \" - \" + level2['kinuy_mishari']\n",
        "\n",
        "level3 = filtered_sunburst_df[['id', 'ramat_gimur', 'parent']].rename(columns={'ramat_gimur': 'label'})\n",
        "\n",
        "sunburst_df = pd.concat([\n",
        "    level1[['id', 'label', 'parent']],\n",
        "    level2[['id', 'label', 'parent']],\n",
        "    level3[['id', 'label', 'parent']]\n",
        "], ignore_index=True)\n"
      ],
      "metadata": {
        "id": "0evFOtInyxk-"
      },
      "execution_count": null,
      "outputs": []
    },
    {
      "cell_type": "code",
      "source": [
        "# ========== Prepare Heatmap ==========\n",
        "heatmap_df = data_df.dropna(subset=['tozeret_nm', 'shnat_yitzur'])\n",
        "heatmap_pivot = heatmap_df.pivot_table(index='tozeret_nm', columns='shnat_yitzur', aggfunc='size', fill_value=0)\n",
        "\n",
        "z = heatmap_pivot.values\n",
        "x = heatmap_pivot.columns.astype(str)\n",
        "y = heatmap_pivot.index\n"
      ],
      "metadata": {
        "id": "MSab4aATyz1z"
      },
      "execution_count": null,
      "outputs": []
    },
    {
      "cell_type": "code",
      "source": [
        "# ========== Combine Sunburst and Heatmap ==========\n",
        "combined_fig = make_subplots(\n",
        "    rows=1, cols=2,\n",
        "    specs=[[{'type': 'domain'}, {'type': 'heatmap'}]],\n",
        "    column_widths=[0.45, 0.55],\n",
        "    subplot_titles=[\"Sunburst🌞: Click To Expand\", \"Heatmap 📊 : Makes vs. Years\"]\n",
        ")\n",
        "\n",
        "# Add Sunburst\n",
        "combined_fig.add_trace(\n",
        "    go.Sunburst(\n",
        "        ids=sunburst_df['id'],\n",
        "        labels=sunburst_df['label'],\n",
        "        parents=sunburst_df['parent'],\n",
        "        maxdepth=3\n",
        "    ),\n",
        "    row=1, col=1\n",
        ")\n",
        "\n",
        "# Add Heatmap\n",
        "combined_fig.add_trace(\n",
        "    go.Heatmap(z=z, x=x, y=y, colorscale='YlGnBu'),\n",
        "    row=1, col=2\n",
        ")\n",
        "\n",
        "combined_fig.update_layout(\n",
        "    title_text=\"Combined Visualization: Vehicle Distribution\",\n",
        "    height=650,\n",
        "    margin=dict(t=50, l=0, r=0, b=0)\n",
        ")\n",
        "\n",
        "combined_fig.show()\n"
      ],
      "metadata": {
        "id": "zoAvT1CIy2f1"
      },
      "execution_count": null,
      "outputs": []
    },
    {
      "cell_type": "code",
      "source": [
        "# ========== Tab 1: Overview ==========\n",
        "tab1 = widgets.Output()\n",
        "with tab1:\n",
        "    display(data_df.describe())\n",
        "    plt.figure(figsize=(10, 4))\n",
        "    sns.histplot(data_df['shnat_yitzur'].dropna(), bins=20, kde=True, color='royalblue')\n",
        "    plt.title(\"Distribution of Production Years\")\n",
        "    plt.xlabel(\"Production Year\")\n",
        "    plt.ylabel(\"Frequency\")\n",
        "    plt.grid(True)\n",
        "    plt.tight_layout()\n",
        "    plt.show()\n"
      ],
      "metadata": {
        "id": "U771d6O0y3zK"
      },
      "execution_count": null,
      "outputs": []
    },
    {
      "cell_type": "code",
      "source": [
        "# ========== Tab 2: Raw Data ==========\n",
        "tab2 = widgets.Output()\n",
        "with tab2:\n",
        "    display(data_df.head(15))\n"
      ],
      "metadata": {
        "id": "gbo6vMQMy43q"
      },
      "execution_count": null,
      "outputs": []
    },
    {
      "cell_type": "code",
      "source": [
        "# ========== Tab 3: Year Chart ==========\n",
        "tab3 = widgets.Output()\n",
        "with tab3:\n",
        "    year_counts = data_df['shnat_yitzur'].value_counts().sort_index()\n",
        "    plt.figure(figsize=(12, 5))\n",
        "    plt.bar(year_counts.index.astype(int), year_counts.values, color='mediumseagreen')\n",
        "    plt.xlabel(\"Production Year\")\n",
        "    plt.ylabel(\"Number of Vehicles\")\n",
        "    plt.title(\"Number of Vehicles by Year\")\n",
        "    plt.grid(True)\n",
        "    plt.tight_layout()\n",
        "    plt.show()\n"
      ],
      "metadata": {
        "id": "rTSFe5x7y68f"
      },
      "execution_count": null,
      "outputs": []
    },
    {
      "cell_type": "code",
      "source": [
        "# ========== Tab 4: Trim Explorer ==========\n",
        "tab4 = widgets.Output()\n",
        "\n",
        "tozeret_nm_dropdown = widgets.Dropdown(\n",
        "    options=[''] + sorted(data_df['tozeret_nm'].dropna().unique()),\n",
        "    description='Tozeret:',\n",
        "    style={'description_width': 'initial'}\n",
        ")\n",
        "\n",
        "kinuy_mishari_dropdown = widgets.Dropdown(\n",
        "    options=[''],\n",
        "    description='Kinuy Mishari:',\n",
        "    style={'description_width': 'initial'}\n",
        ")\n",
        "\n",
        "output_area = widgets.Output()\n",
        "\n",
        "def update_kinuy_mishari_options(change):\n",
        "    if change['new']:\n",
        "        models = data_df[data_df['tozeret_nm'] == change['new']]['kinuy_mishari'].dropna().unique()\n",
        "        kinuy_mishari_dropdown.options = [''] + sorted(models)\n",
        "    else:\n",
        "        kinuy_mishari_dropdown.options = ['']\n",
        "\n",
        "def update_output(change=None):\n",
        "    output_area.clear_output()\n",
        "    selected_tozeret = tozeret_nm_dropdown.value\n",
        "    selected_kinuy = kinuy_mishari_dropdown.value\n",
        "\n",
        "    if selected_tozeret and selected_kinuy:\n",
        "        filtered_df = data_df[\n",
        "            (data_df['tozeret_nm'] == selected_tozeret) &\n",
        "            (data_df['kinuy_mishari'] == selected_kinuy)\n",
        "        ]\n",
        "        total_records = len(filtered_df)\n",
        "        unique_ramat_gimur = filtered_df['ramat_gimur'].dropna().unique()\n",
        "\n",
        "        with output_area:\n",
        "            print(f\"Total Records: {total_records}\")\n",
        "            print(f\"Unique Ramat Gimur: {', '.join(unique_ramat_gimur) if len(unique_ramat_gimur) > 0 else 'None'}\")\n",
        "    else:\n",
        "        with output_area:\n",
        "            print(\"Please select valid options for both dropdowns.\")\n",
        "\n",
        "tozeret_nm_dropdown.observe(update_kinuy_mishari_options, names='value')\n",
        "kinuy_mishari_dropdown.observe(update_output, names='value')\n",
        "\n",
        "with tab4:\n",
        "    display(widgets.VBox([tozeret_nm_dropdown, kinuy_mishari_dropdown, output_area]))\n"
      ],
      "metadata": {
        "id": "NbGCGxOIy8Tt"
      },
      "execution_count": null,
      "outputs": []
    },
    {
      "cell_type": "code",
      "source": [
        "# ========== Display all Tabs ==========\n",
        "tabs = widgets.Tab(children=[tab1, tab2, tab3, tab4])\n",
        "tabs.set_title(0, \"Overview\")\n",
        "tabs.set_title(1, \"Raw Data\")\n",
        "tabs.set_title(2, \"Year Chart\")\n",
        "tabs.set_title(3, \"Trim Explorer\")\n",
        "display(tabs)\n"
      ],
      "metadata": {
        "id": "fnuk2YUzy-h6"
      },
      "execution_count": null,
      "outputs": []
    }
  ]
}