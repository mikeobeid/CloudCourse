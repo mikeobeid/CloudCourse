{
  "nbformat": 4,
  "nbformat_minor": 0,
  "metadata": {
    "colab": {
      "provenance": [],
      "authorship_tag": "ABX9TyOhL1W+UHb9uWm5Qj73fsYQ",
      "include_colab_link": true
    },
    "kernelspec": {
      "name": "python3",
      "display_name": "Python 3"
    },
    "language_info": {
      "name": "python"
    }
  },
  "cells": [
    {
      "cell_type": "markdown",
      "metadata": {
        "id": "view-in-github",
        "colab_type": "text"
      },
      "source": [
        "<a href=\"https://colab.research.google.com/github/mikeobeid/CloudCourse/blob/main/ex7.ipynb\" target=\"_parent\"><img src=\"https://colab.research.google.com/assets/colab-badge.svg\" alt=\"Open In Colab\"/></a>"
      ]
    },
    {
      "cell_type": "markdown",
      "source": [
        "# 📓 **Tutorial 7 – Cloud Computing**  \n",
        "**Project:** HW2_Tiger – Microservices Search Engine\n",
        "\n",
        "---\n",
        "\n",
        "### **Summary:**  \n",
        "This notebook implements a document search engine using a simulated microservices architecture in Python. It includes:\n",
        "\n",
        "- 🧩 Document indexing\n",
        "- 🔍 Logical search queries using `AND` / `OR`\n",
        "- 📊 Keyword frequency scoring and ranking system\n",
        "- 🧾 Result formatting with title and snippet display\n",
        "\n",
        "The architecture is modular and designed to reflect real-world service boundaries.  \n",
        "This project can be scaled and deployed using **serverless** Function-as-a-Service platforms (e.g., Google Cloud Functions).\n",
        "\n",
        "---\n"
      ],
      "metadata": {
        "id": "8EussDfR0Jsi"
      }
    },
    {
      "cell_type": "code",
      "source": [
        "# Required for pretty display\n",
        "from datetime import datetime"
      ],
      "metadata": {
        "id": "QpRd31XEyg74"
      },
      "execution_count": 2,
      "outputs": []
    },
    {
      "cell_type": "code",
      "execution_count": 3,
      "metadata": {
        "id": "vJOoD1BdySKk"
      },
      "outputs": [],
      "source": [
        "class IndexService:\n",
        "    def __init__(self):\n",
        "        self.documents = {}\n",
        "        self.index = {}\n",
        "\n",
        "    def add_document(self, doc_data):\n",
        "        doc_id = str(len(self.documents) + 1)\n",
        "        self.documents[doc_id] = {**doc_data, 'id': doc_id}\n",
        "        words = doc_data['content'].lower().split()\n",
        "        for word in words:\n",
        "            if word not in self.index:\n",
        "                self.index[word] = set()\n",
        "            self.index[word].add(doc_id)\n",
        "        return self.documents[doc_id]\n",
        "\n",
        "    def get_document(self, doc_id):\n",
        "        return self.documents.get(doc_id)\n",
        "\n",
        "    def search_word(self, word):\n",
        "        return list(self.index.get(word.lower(), set()))\n"
      ]
    },
    {
      "cell_type": "code",
      "source": [
        "class QueryService:\n",
        "    def __init__(self, index_service):\n",
        "        self.index_service = index_service\n",
        "        self.queries = {}\n",
        "\n",
        "    def create_query(self, query_data):\n",
        "        try:\n",
        "            query_id = str(len(self.queries) + 1)\n",
        "            terms = query_data['terms']\n",
        "            operator = query_data.get('operator', 'AND').upper()\n",
        "            results = {}\n",
        "            all_doc_scores = {}\n",
        "\n",
        "            for term in terms:\n",
        "                doc_ids = self.index_service.search_word(term)\n",
        "                for doc_id in doc_ids:\n",
        "                    all_doc_scores[doc_id] = all_doc_scores.get(doc_id, 0) + 1\n",
        "\n",
        "            if operator == 'AND':\n",
        "                filtered = [doc_id for doc_id, score in all_doc_scores.items() if score == len(terms)]\n",
        "            elif operator == 'OR':\n",
        "                filtered = list(all_doc_scores.keys())\n",
        "            else:\n",
        "                return {'error': 'Unsupported operator'}\n",
        "\n",
        "            query = {\n",
        "                'id': query_id,\n",
        "                'terms': terms,\n",
        "                'operator': operator,\n",
        "                'results': filtered,\n",
        "                'scores': {doc_id: all_doc_scores[doc_id] for doc_id in filtered},\n",
        "                'timestamp': query_data.get('timestamp', str(datetime.now()))\n",
        "            }\n",
        "            self.queries[query_id] = query\n",
        "            return query\n",
        "        except Exception as e:\n",
        "            return {'error': str(e)}\n"
      ],
      "metadata": {
        "id": "WLxBTRpSynDB"
      },
      "execution_count": 4,
      "outputs": []
    },
    {
      "cell_type": "code",
      "source": [
        "class ResultService:\n",
        "    def __init__(self, index_service, query_service):\n",
        "        self.index_service = index_service\n",
        "        self.query_service = query_service\n",
        "        self.results = {}\n",
        "\n",
        "    def format_results(self, query_id):\n",
        "        try:\n",
        "            query = self.query_service.queries.get(query_id)\n",
        "            if not query:\n",
        "                return {'error': 'Query not found'}\n",
        "\n",
        "            ranked = sorted(query['results'], key=lambda d: query['scores'][d], reverse=True)\n",
        "\n",
        "            formatted = []\n",
        "            for doc_id in ranked:\n",
        "                doc = self.index_service.get_document(doc_id)\n",
        "                if doc:\n",
        "                    formatted.append({\n",
        "                        'doc_id': doc_id,\n",
        "                        'title': doc['title'],\n",
        "                        'score': query['scores'][doc_id],\n",
        "                        'snippet': doc['content'][:100] + '...'\n",
        "                    })\n",
        "\n",
        "            result_id = str(len(self.results) + 1)\n",
        "            result = {\n",
        "                'id': result_id,\n",
        "                'query_id': query_id,\n",
        "                'formatted_results': formatted,\n",
        "                'count': len(formatted)\n",
        "            }\n",
        "            self.results[result_id] = result\n",
        "            return result\n",
        "        except Exception as e:\n",
        "            return {'error': str(e)}\n"
      ],
      "metadata": {
        "id": "LcLa7wHtyqGl"
      },
      "execution_count": 5,
      "outputs": []
    },
    {
      "cell_type": "code",
      "source": [
        "# Initialize services\n",
        "index_service = IndexService()\n",
        "query_service = QueryService(index_service)\n",
        "result_service = ResultService(index_service, query_service)\n",
        "\n",
        "# Add documents\n",
        "index_service.add_document({'title': 'MQTT Overview', 'content': 'MQTT is a lightweight messaging protocol'})\n",
        "index_service.add_document({'title': 'IoT and MQTT', 'content': 'IoT devices use MQTT for communication'})\n",
        "index_service.add_document({'title': 'Cloud Communication', 'content': 'Protocols like HTTP and MQTT are used'})\n",
        "\n",
        "# Create and run query\n",
        "query = query_service.create_query({'terms': ['mqtt', 'protocol'], 'operator': 'OR'})\n",
        "print(\"Query:\", query)\n",
        "\n",
        "# Format results\n",
        "formatted = result_service.format_results(query['id'])\n",
        "for r in formatted['formatted_results']:\n",
        "    print(f\"[{r['score']}] {r['title']} → {r['snippet']}\")\n"
      ],
      "metadata": {
        "colab": {
          "base_uri": "https://localhost:8080/"
        },
        "id": "FwHqsfCjysYb",
        "outputId": "3e2d49ff-44f7-457c-b5a3-b9403e4f1056"
      },
      "execution_count": 6,
      "outputs": [
        {
          "output_type": "stream",
          "name": "stdout",
          "text": [
            "Query: {'id': '1', 'terms': ['mqtt', 'protocol'], 'operator': 'OR', 'results': ['2', '1', '3'], 'scores': {'2': 1, '1': 2, '3': 1}, 'timestamp': '2025-05-23 10:57:50.765241'}\n",
            "[2] MQTT Overview → MQTT is a lightweight messaging protocol...\n",
            "[1] IoT and MQTT → IoT devices use MQTT for communication...\n",
            "[1] Cloud Communication → Protocols like HTTP and MQTT are used...\n"
          ]
        }
      ]
    }
  ]
}